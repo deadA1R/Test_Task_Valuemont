{
 "cells": [
  {
   "cell_type": "markdown",
   "metadata": {},
   "source": [
    "### Исполнитель: Рогов Илья ###\n",
    "*Дата: 07/02/2024* \n",
    "\n",
    "\n",
    "Описание: Ниже представлены решения для каждого под задания. Для корректного запуска рекомендуется использовать следующие библиотеки:\n",
    "* pandas\n",
    "* request\n",
    "* base64\n",
    "* faker\n",
    "* random\n",
    "* ipython\n",
    "* ipython_sql\n",
    "\n",
    "Так же в заданиях 3, 4, 5 были сгенерированы случайные данные и загружены в базу данных ___test_database.db___."
   ]
  },
  {
   "cell_type": "markdown",
   "metadata": {},
   "source": [
    "### Задание 1 ###\n",
    " Для первого задания тебе необходимо скачать файл (в приложении)\n",
    "Далее нужно прочитать таблицы с обоих листов используя библиотеку pandas. Из таблицы на втором листе, нужно удалить дубликаты для колонки Player, оставив в колонке Date наибольшую дату. После объединить обе таблицы, добавить колонку User с твоим почтым адресом.\n",
    "Таким образом, полученная таблица будет иметь колонки Player, Score, Date, User.\n"
   ]
  },
  {
   "cell_type": "code",
   "execution_count": 1,
   "metadata": {},
   "outputs": [],
   "source": [
    "import pandas as pd \n",
    "\n",
    "df_1 = pd.read_excel('test_data.xlsx', sheet_name=0) # Получаем данные из 1 листа из файла 'test_data.xlsx' и сохраняем в df_1\n",
    "df_2 = pd.read_excel('test_data.xlsx', sheet_name=1) # Получаем данные из 2 листа из файла 'test_data.xlsx' и сохраняем в df_2\n"
   ]
  },
  {
   "cell_type": "code",
   "execution_count": 2,
   "metadata": {},
   "outputs": [
    {
     "name": "stdout",
     "output_type": "stream",
     "text": [
      "        Player  Score       Date                      User\n",
      "0         Dino    473 2022-02-10  ilya.rogov@valuemont.com\n",
      "1         Bear    401 2022-01-30  ilya.rogov@valuemont.com\n",
      "2     Elephant    337 2022-02-09  ilya.rogov@valuemont.com\n",
      "3  Marshmallow    145 2022-02-07  ilya.rogov@valuemont.com\n",
      "4      Unicorn    222 2022-02-09  ilya.rogov@valuemont.com\n",
      "5        Doggo    500 2022-01-27  ilya.rogov@valuemont.com\n",
      "6        Panda     58 2022-02-09  ilya.rogov@valuemont.com\n"
     ]
    }
   ],
   "source": [
    "# Сортируем df_2 по дате и удаляем дубликаты в 'Player'\n",
    "df_2 = df_2.sort_values('Date').drop_duplicates('Player', keep='last') \n",
    "\n",
    "# Объединяем df_1 и df_2 по 'Player' и сохраняем результат в df_result\n",
    "df_result = pd.merge(df_1, df_2, on='Player')\n",
    "\n",
    "# Добавляем в df_result новый столбец 'User' со значением почты\n",
    "df_result['User'] = 'ilya.rogov@valuemont.com'\n",
    "print(df_result)"
   ]
  },
  {
   "cell_type": "markdown",
   "metadata": {},
   "source": [
    "### Задание 2 ###\n",
    "Следующий шаг - авторизация в Anaplan. Здесь тебе поможет твои credentials, библиотека requests и документация от Anaplan Результат: AnaplanAuthToken, который будет использоваться для дальнейших запросов.\n"
   ]
  },
  {
   "cell_type": "code",
   "execution_count": 3,
   "metadata": {},
   "outputs": [],
   "source": [
    "import requests\n",
    "import base64"
   ]
  },
  {
   "cell_type": "code",
   "execution_count": 4,
   "metadata": {},
   "outputs": [],
   "source": [
    "# Задаем учетные данные \n",
    "username = 'ilya.rogov@valuemont.com'\n",
    "password = 'Gratop906kik'\n",
    "\n",
    "# Задаем URL \n",
    "url = 'https://auth.anaplan.com/token/authenticate'\n",
    "\n",
    "# Задаем header для запроса. Учитываем что Authorization закодирован в base64\n",
    "headers = {\n",
    "    'Authorization': 'Basic ' + base64.b64encode((username + ':' + password).encode('utf-8')).decode('utf-8'),\n",
    "    'Content-Type': 'application/json'\n",
    "}"
   ]
  },
  {
   "cell_type": "code",
   "execution_count": 5,
   "metadata": {},
   "outputs": [
    {
     "name": "stdout",
     "output_type": "stream",
     "text": [
      "AnaplanAuthToken: Cx2WITUJT0TynZv3Erb2Tg==.dbbXZ0hfJAqougeSWCqkdZ48fvnG8L/vgNl92019+wlLZZi2CH781wPvWT+TOsVPdw/bpStaeUdCPnp/gVeusSkAc6SPsnvqzM3DXrM+KjmAmSixeg3Me7zPR6sO6/wIPB3JFzcDfDZ+68ve0DAwcr2PIP4dyPWbiFmtbiiI5tHnNsMt5mvXN6RYKQkWTr3KupFEYur94Z4W9uOEUkmafX9whnVox6DAa4bGjuPZKtnmWEePnjgCZxvEwgEpbgL+pDOpOyKkHeDUJrd3BSJnPJjcA2OXNTfA+ppRZgHZQrDQd3PBI7b/H5Mhkjl+nEZtgNGIyDTS3GLjeVQ9ebT2sFVqOQBe8qBtnA3rC24UHNRFtD/40y8Nc/o3SUOXg8gcS/BS83EWtQLRVEUYe8UeDGHITUCrTmIfhpMHpsYV2WhjHwrtVzdpKO6LymeEFeUXQmaRKQNTevBbQ5acTCqlzck/ptNqHYCeGaBRTXu4odDCtiT3dKeF/jNASPbiFR6YMeZuPGCYwxovSb1KVKUDLXGST3qyLIxVp8wOb2+SfZQ=.hO0jjT9RdXVkq7JHR89/Su24biz6Pe+N5GWF2rkxJS8=\n"
     ]
    }
   ],
   "source": [
    "# Отправляем POST запрос\n",
    "response = requests.post(url, headers=headers)\n",
    "\n",
    "# Если авторизация успешна выводим токен (tokenValue), иначе выводим статус запроса и текст\n",
    "if 200 <= response.status_code < 300:\n",
    "    anaplan_auth_token = response.json()['tokenInfo']['tokenValue']\n",
    "    print('AnaplanAuthToken:', anaplan_auth_token)\n",
    "else:\n",
    "    print('Error:', response.status_code, response.text)\n"
   ]
  },
  {
   "cell_type": "markdown",
   "metadata": {},
   "source": [
    "### Задание 3 ### \n",
    "У вас есть база данных с таблицей \"employees\", содержащей следующие столбцы:\n",
    "employee_id (целочисленный идентификатор сотрудника)\n",
    "first_name (имя сотрудника)\n",
    "last_name (фамилия сотрудника)\n",
    "salary (заработная плата сотрудника)\n",
    "Ваша задача:\n",
    "Напишите SQL-запрос для выбора всех сотрудников, у которых заработная плата выше 50000.\n",
    "Отсортируйте результат по убыванию заработной платы.\n",
    "Выведите первые 5 строк результата.\n"
   ]
  },
  {
   "cell_type": "code",
   "execution_count": 6,
   "metadata": {},
   "outputs": [],
   "source": [
    "# Следующая ячейка используются для создания базы данных (для наглядной визуализиции SQL запросов)\n",
    "# Импорт библиотеки faker (позволяет заполнить БД случайной информацией) \n",
    "from faker import Faker\n",
    "\n",
    "# Определение функции создания данных работников\n",
    "def create_employees_info():\n",
    "    fake = Faker() # Создание объекта Faker\n",
    "    employees = [] # Создание пустого списка для хранения информации о сотрудниках\n",
    "    for employee in range(50): # Цикл для генерации информации о 50 сотрудниках\n",
    "        employees.append({ \n",
    "            \"employee_id\": fake.unique.random_number(digits=5), # уникальный ID\n",
    "            \"first_name\": fake.first_name(), # Генерация имени\n",
    "            \"last_name\": fake.last_name(), # Генерация Фамилии\n",
    "            \"salary\": fake.random_int(min=30000, max=100000, step=1000) # Генерация зарплаты\n",
    "        })\n",
    "    return pd.DataFrame(employees) # Преобразуем список в DataFrame и возвращаем его\n",
    "\n",
    "df_employees = create_employees_info() # Присваиваем df_employees результат функции create_employees_info() \n",
    "\n",
    "import sqlite3\n",
    "\n",
    "conn =  sqlite3.connect('test_database.db') # Создаем/подключаем БД\n",
    "\n",
    "df_employees.to_sql('employees', conn, if_exists='replace', index=False) # Конвертируем df_employees в БД SQL\n"
   ]
  },
  {
   "cell_type": "code",
   "execution_count": 8,
   "metadata": {},
   "outputs": [],
   "source": [
    "# Загружаем расширение SQL для IPython\n",
    "%load_ext sql\n",
    "\n",
    "# Устанавливаем соединение с БД\n",
    "%sql sqlite:///test_database.db\n"
   ]
  },
  {
   "cell_type": "markdown",
   "metadata": {},
   "source": [
    "#### Решение ####"
   ]
  },
  {
   "cell_type": "code",
   "execution_count": 9,
   "metadata": {},
   "outputs": [
    {
     "name": "stdout",
     "output_type": "stream",
     "text": [
      " * sqlite:///test_database.db\n",
      "Done.\n"
     ]
    },
    {
     "data": {
      "text/html": [
       "<table>\n",
       "    <thead>\n",
       "        <tr>\n",
       "            <th>employee_id</th>\n",
       "            <th>first_name</th>\n",
       "            <th>last_name</th>\n",
       "            <th>salary</th>\n",
       "        </tr>\n",
       "    </thead>\n",
       "    <tbody>\n",
       "        <tr>\n",
       "            <td>40969</td>\n",
       "            <td>Eugene</td>\n",
       "            <td>Maxwell</td>\n",
       "            <td>99000</td>\n",
       "        </tr>\n",
       "        <tr>\n",
       "            <td>97511</td>\n",
       "            <td>Bradley</td>\n",
       "            <td>Aguirre</td>\n",
       "            <td>97000</td>\n",
       "        </tr>\n",
       "        <tr>\n",
       "            <td>13383</td>\n",
       "            <td>Ivan</td>\n",
       "            <td>Underwood</td>\n",
       "            <td>97000</td>\n",
       "        </tr>\n",
       "        <tr>\n",
       "            <td>55808</td>\n",
       "            <td>Bradley</td>\n",
       "            <td>Patel</td>\n",
       "            <td>93000</td>\n",
       "        </tr>\n",
       "        <tr>\n",
       "            <td>3008</td>\n",
       "            <td>Lindsey</td>\n",
       "            <td>Porter</td>\n",
       "            <td>93000</td>\n",
       "        </tr>\n",
       "    </tbody>\n",
       "</table>"
      ],
      "text/plain": [
       "[(40969, 'Eugene', 'Maxwell', 99000),\n",
       " (97511, 'Bradley', 'Aguirre', 97000),\n",
       " (13383, 'Ivan', 'Underwood', 97000),\n",
       " (55808, 'Bradley', 'Patel', 93000),\n",
       " (3008, 'Lindsey', 'Porter', 93000)]"
      ]
     },
     "execution_count": 9,
     "metadata": {},
     "output_type": "execute_result"
    }
   ],
   "source": [
    "%%sql \n",
    "SELECT * \n",
    "FROM employees\n",
    "WHERE salary > 50000\n",
    "ORDER BY salary DESC\n",
    "LIMIT 5"
   ]
  },
  {
   "cell_type": "markdown",
   "metadata": {},
   "source": [
    "### Задание 4 ###\n",
    "Напишите SQL-запрос для нахождения второго максимального значения в столбце в таблице.\n"
   ]
  },
  {
   "cell_type": "markdown",
   "metadata": {},
   "source": [
    "#### Решение ####"
   ]
  },
  {
   "cell_type": "code",
   "execution_count": 10,
   "metadata": {},
   "outputs": [
    {
     "name": "stdout",
     "output_type": "stream",
     "text": [
      " * sqlite:///test_database.db\n",
      "Done.\n"
     ]
    },
    {
     "data": {
      "text/html": [
       "<table>\n",
       "    <thead>\n",
       "        <tr>\n",
       "            <th>MAX(salary)</th>\n",
       "        </tr>\n",
       "    </thead>\n",
       "    <tbody>\n",
       "        <tr>\n",
       "            <td>97000</td>\n",
       "        </tr>\n",
       "    </tbody>\n",
       "</table>"
      ],
      "text/plain": [
       "[(97000,)]"
      ]
     },
     "execution_count": 10,
     "metadata": {},
     "output_type": "execute_result"
    }
   ],
   "source": [
    "%%sql\n",
    "SELECT MAX(salary) \n",
    "FROM employees\n",
    "WHERE salary < (SELECT MAX(salary) FROM employees)"
   ]
  },
  {
   "cell_type": "markdown",
   "metadata": {},
   "source": [
    "### Задание 5 ###\n",
    "Представим, у вас есть таблица \"transactions\" с полями \"user_id\", \"amount\", и \"timestamp\". Напишите SQL-запрос для поиска пользователей, у которых сумма транзакций за последний месяц превысила 1000.\n"
   ]
  },
  {
   "cell_type": "code",
   "execution_count": 25,
   "metadata": {},
   "outputs": [
    {
     "data": {
      "text/plain": [
       "50"
      ]
     },
     "execution_count": 25,
     "metadata": {},
     "output_type": "execute_result"
    }
   ],
   "source": [
    "# Следующая ячейка используются для создания базы данных (для наглядной визуализиции SQL запросов)\n",
    "from random import randint\n",
    "\n",
    "# Определение функции создания данных транзакций с заранее заданым количеством пользователей и количеством транзакций\n",
    "def create_transactions_data(num_users=15, num_transactions=50):\n",
    "    fake = Faker()\n",
    "    transactions = []\n",
    "    for transaction in range(num_transactions):\n",
    "        user_id = randint(1, num_users) # Генерирация случайного ID\n",
    "        amount = randint(1, 1000)  # Генерация случайной сумму транзакции\n",
    "        timestamp = fake.date_between(start_date='-40d', end_date='today')  # Генерация случайной даты транзакции\n",
    "        transactions.append({\n",
    "            \"user_id\": user_id,\n",
    "            \"amount\": amount,\n",
    "            \"timestamp\": timestamp\n",
    "        })\n",
    "    return pd.DataFrame(transactions)\n",
    "\n",
    "df_transactions = create_transactions_data() # Преобразуем список в DataFrame и возвращаем его\n",
    "\n",
    "\n",
    "df_transactions.to_sql('transactions', conn, if_exists='replace', index=False) # Конвертируем df_transactions в БД SQL"
   ]
  },
  {
   "cell_type": "markdown",
   "metadata": {},
   "source": [
    "#### Решение ####"
   ]
  },
  {
   "cell_type": "code",
   "execution_count": 26,
   "metadata": {},
   "outputs": [
    {
     "name": "stdout",
     "output_type": "stream",
     "text": [
      " * sqlite:///test_database.db\n",
      "Done.\n"
     ]
    },
    {
     "data": {
      "text/html": [
       "<table>\n",
       "    <thead>\n",
       "        <tr>\n",
       "            <th>user_id</th>\n",
       "            <th>total_amount</th>\n",
       "        </tr>\n",
       "    </thead>\n",
       "    <tbody>\n",
       "        <tr>\n",
       "            <td>1</td>\n",
       "            <td>3493</td>\n",
       "        </tr>\n",
       "        <tr>\n",
       "            <td>2</td>\n",
       "            <td>1536</td>\n",
       "        </tr>\n",
       "        <tr>\n",
       "            <td>4</td>\n",
       "            <td>1294</td>\n",
       "        </tr>\n",
       "        <tr>\n",
       "            <td>5</td>\n",
       "            <td>1394</td>\n",
       "        </tr>\n",
       "        <tr>\n",
       "            <td>6</td>\n",
       "            <td>3391</td>\n",
       "        </tr>\n",
       "        <tr>\n",
       "            <td>9</td>\n",
       "            <td>1845</td>\n",
       "        </tr>\n",
       "        <tr>\n",
       "            <td>11</td>\n",
       "            <td>1010</td>\n",
       "        </tr>\n",
       "        <tr>\n",
       "            <td>12</td>\n",
       "            <td>1881</td>\n",
       "        </tr>\n",
       "    </tbody>\n",
       "</table>"
      ],
      "text/plain": [
       "[(1, 3493),\n",
       " (2, 1536),\n",
       " (4, 1294),\n",
       " (5, 1394),\n",
       " (6, 3391),\n",
       " (9, 1845),\n",
       " (11, 1010),\n",
       " (12, 1881)]"
      ]
     },
     "execution_count": 26,
     "metadata": {},
     "output_type": "execute_result"
    }
   ],
   "source": [
    "%%sql \n",
    "SELECT user_id, SUM(amount) as total_amount\n",
    "FROM transactions\n",
    "WHERE timestamp > date('now','-1 month')\n",
    "GROUP BY user_id\n",
    "HAVING total_amount > 1000"
   ]
  }
 ],
 "metadata": {
  "kernelspec": {
   "display_name": "Python 3",
   "language": "python",
   "name": "python3"
  },
  "language_info": {
   "codemirror_mode": {
    "name": "ipython",
    "version": 3
   },
   "file_extension": ".py",
   "mimetype": "text/x-python",
   "name": "python",
   "nbconvert_exporter": "python",
   "pygments_lexer": "ipython3",
   "version": "3.11.5"
  }
 },
 "nbformat": 4,
 "nbformat_minor": 2
}
